{
 "cells": [
  {
   "cell_type": "code",
   "execution_count": 26,
   "id": "bfa87e1f-7357-493b-b84e-085da9774e12",
   "metadata": {},
   "outputs": [],
   "source": [
    "import pandas as pd \n",
    "data=pd.read_csv(\"insurance_pre.csv\")\n",
    "\n",
    "from sklearn.preprocessing import OrdinalEncoder  \n",
    "data['sex'] = OrdinalEncoder().fit_transform(data[['sex']])\n",
    "data['smoker'] = OrdinalEncoder().fit_transform(data[['smoker']])\n",
    "\n",
    "independent=data[['age', 'sex', 'bmi', 'children', 'smoker']] #Assigning the dataset column to independent which is input\n",
    "dependent=data[['charges']]\n",
    "\n",
    "from sklearn.model_selection import train_test_split #sklearn is a library where all ML algorithms are present.Here we are importing function called train_test_split\n",
    "X_train,X_test,Y_train,Y_test=train_test_split(independent, dependent, test_size=0.3, random_state=0)\n"
   ]
  },
  {
   "cell_type": "code",
   "execution_count": 27,
   "id": "c30a6bac-e666-4d2f-a5e2-efb0e4a7419c",
   "metadata": {},
   "outputs": [],
   "source": [
    "from sklearn.preprocessing import StandardScaler\n",
    "sc=StandardScaler()\n",
    "X_train=sc.fit_transform(X_train)\n",
    "X_test=sc.transform(X_test)"
   ]
  },
  {
   "cell_type": "code",
   "execution_count": 28,
   "id": "351b32c4-faaf-4bc0-a2d3-bb2edc7f8a0f",
   "metadata": {},
   "outputs": [
    {
     "name": "stderr",
     "output_type": "stream",
     "text": [
      "C:\\Anaconda3\\Lib\\site-packages\\sklearn\\base.py:493: UserWarning: X does not have valid feature names, but StandardScaler was fitted with feature names\n",
      "  warnings.warn(\n"
     ]
    },
    {
     "data": {
      "text/plain": [
       "array([[-0.67626549, -0.97676557,  0.23228084, -0.06746417, -0.50466988]])"
      ]
     },
     "execution_count": 28,
     "metadata": {},
     "output_type": "execute_result"
    }
   ],
   "source": [
    "userinput=[30,'female',32.2,1,'no']\n",
    "\n",
    "userinput[1] = OrdinalEncoder().fit_transform([[userinput[1]]])[0][0]\n",
    "userinput[4] = OrdinalEncoder().fit_transform([[userinput[4]]])[0][0]\n",
    "\n",
    "#Convert to 2D list (required by sc.transform)\n",
    "userinput=[userinput]\n",
    "\n",
    "preinput = sc.transform(userinput)\n",
    "preinput"
   ]
  },
  {
   "cell_type": "code",
   "execution_count": 29,
   "id": "49aaaea6-a4bc-407d-aa23-bfe79e3de0c8",
   "metadata": {},
   "outputs": [
    {
     "data": {
      "text/plain": [
       "array([5968.0690444])"
      ]
     },
     "execution_count": 29,
     "metadata": {},
     "output_type": "execute_result"
    }
   ],
   "source": [
    "#Process Name : Deployment of Model\n",
    "import pickle\n",
    "loaded_model=pickle.load(open(\"insurance_prediction_regression_model.sav\",'rb')) #loading the model\n",
    "\n",
    "result=loaded_model.predict(preinput)\n",
    "result"
   ]
  },
  {
   "cell_type": "code",
   "execution_count": null,
   "id": "fa29fa6d-4967-4c5e-8541-44aa5f09295f",
   "metadata": {},
   "outputs": [],
   "source": []
  },
  {
   "cell_type": "code",
   "execution_count": null,
   "id": "d65a8f45-f792-4f38-8059-571fcf9b6278",
   "metadata": {},
   "outputs": [],
   "source": []
  }
 ],
 "metadata": {
  "kernelspec": {
   "display_name": "Python 3 (ipykernel)",
   "language": "python",
   "name": "python3"
  },
  "language_info": {
   "codemirror_mode": {
    "name": "ipython",
    "version": 3
   },
   "file_extension": ".py",
   "mimetype": "text/x-python",
   "name": "python",
   "nbconvert_exporter": "python",
   "pygments_lexer": "ipython3",
   "version": "3.12.7"
  }
 },
 "nbformat": 4,
 "nbformat_minor": 5
}
